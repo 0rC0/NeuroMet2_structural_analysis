{
 "cells": [
  {
   "cell_type": "markdown",
   "metadata": {},
   "source": [
    "# NeuroMet"
   ]
  },
  {
   "cell_type": "markdown",
   "metadata": {},
   "source": [
    "Instructions:\n",
    "* this notebook cannot be used for two different analysis at the same time. If you are unsure if someone is using it click on File / Make a copy and work with the copy.\n",
    "* to run a cell press Umschalt (Shift) + Enter\n",
    "* to correctly run the workflow _EVERY_ cell has to be ran\n",
    "* When you run a cell, there is at first an [*] on the left, then a number (maybe an updated number) when the cell ran.\n",
    "* normally the only thing to adjust in the settings is 1.6 Subject"
   ]
  },
  {
   "cell_type": "code",
   "execution_count": 1,
   "metadata": {},
   "outputs": [],
   "source": [
    "## External Modules"
   ]
  },
  {
   "cell_type": "code",
   "execution_count": null,
   "metadata": {},
   "outputs": [],
   "source": [
    "import os, glob \n",
    "from pipeline.NeuroMet2_dev_fs7 import NeuroMet\n",
    "from IPython.display import Image\n",
    "%matplotlib inline"
   ]
  },
  {
   "cell_type": "code",
   "execution_count": null,
   "metadata": {},
   "outputs": [],
   "source": [
    "## Settings"
   ]
  },
  {
   "cell_type": "code",
   "execution_count": null,
   "metadata": {},
   "outputs": [],
   "source": [
    "## Paths\n",
    "raw_data_dir = '/media/drive_s/AG/AG-Floeel-Imaging/00-Rohdaten/02_niftis/NeuroMET2_LauraGöschel/2_Messkohorte'\n",
    "base_dir = '/media/drive_s/AG/AG-Floeel-Imaging/02-User/NEUROMET2'\n",
    "temp_dir = '/home/WorkFlowTemp/NeuroMet2_fs7_quant'\n",
    "\n",
    "#Working directory\n",
    "w_dir = os.path.join(base_dir, 'Structural_Analysis_fs7_quant')\n",
    "\n",
    "\n",
    "#cores\n",
    "cores = 6\n",
    "omp_nthreads = 3\n",
    "\n",
    "#overwrite copied files?\n",
    "overwrite = False"
   ]
  },
  {
   "cell_type": "markdown",
   "metadata": {},
   "source": [
    "**subject_list**:\n",
    "* to analyze all subjects cut&paste below: `subject_list = [ x.split('/')[-1][8:11] for x in os.listdir(w_dir) if x.startswith('NeuroMet')]`\n",
    "* to analyse only some subjects use the format: `subject_list = ['subject number', 'subject number' ... ]` i.e.: `subject_list = ['001']` or `subject_list = ['001', '003']` "
   ]
  },
  {
   "cell_type": "code",
   "execution_count": null,
   "metadata": {},
   "outputs": [],
   "source": [
    "subject_list = ['2054T1', '2059T1', '2060T1', '2061T1', '2106T1', '2107T1', '2108T1', '2004T2', '2006T2']"
   ]
  },
  {
   "cell_type": "code",
   "execution_count": null,
   "metadata": {},
   "outputs": [],
   "source": [
    "# Workflow - 1st part - SPM Segment and Mask generation"
   ]
  },
  {
   "cell_type": "code",
   "execution_count": null,
   "metadata": {},
   "outputs": [],
   "source": [
    "neuromet_creator = NeuroMet(subject_list, temp_dir, w_dir, omp_nthreads, raw_data_dir, overwrite)"
   ]
  },
  {
   "cell_type": "code",
   "execution_count": null,
   "metadata": {},
   "outputs": [],
   "source": [
    "## Copy from raw data"
   ]
  },
  {
   "cell_type": "code",
   "execution_count": null,
   "metadata": {},
   "outputs": [],
   "source": [
    "neuromet_creator.copy_from_raw_data()"
   ]
  },
  {
   "cell_type": "code",
   "execution_count": null,
   "metadata": {},
   "outputs": [],
   "source": [
    "## Tissue Segmentation Pipeline"
   ]
  },
  {
   "cell_type": "code",
   "execution_count": null,
   "metadata": {},
   "outputs": [],
   "source": [
    "neuromet = neuromet_creator.make_neuromet1_workflow()"
   ]
  },
  {
   "cell_type": "code",
   "execution_count": null,
   "metadata": {},
   "outputs": [],
   "source": [
    "neuromet.write_graph(graph2use = 'colored', dotfilename = './imgs/neuromet')\n",
    "Image(filename='./imgs/neuromet.png')"
   ]
  },
  {
   "cell_type": "code",
   "execution_count": null,
   "metadata": {
    "scrolled": false
   },
   "outputs": [],
   "source": [
    "%%time\n",
    "neuromet.run('MultiProc', plugin_args={'n_procs': cores})"
   ]
  },
  {
   "cell_type": "code",
   "execution_count": null,
   "metadata": {},
   "outputs": [],
   "source": [
    "# Create combined image and Freesurfer analysis"
   ]
  },
  {
   "cell_type": "code",
   "execution_count": null,
   "metadata": {},
   "outputs": [],
   "source": [
    "print(subject_list)"
   ]
  },
  {
   "cell_type": "code",
   "execution_count": null,
   "metadata": {},
   "outputs": [],
   "source": [
    "# Uncomment here for all subjects:\n",
    "#subject_list = [ x.split('/')[-1][8:11] for x in uni ]\n",
    "\n",
    "# only some subjects? Then edit here:  \n",
    "#subject_list = ['2004']"
   ]
  },
  {
   "cell_type": "code",
   "execution_count": null,
   "metadata": {},
   "outputs": [],
   "source": [
    "import importlib\n",
    "from pipeline import NeuroMet2_dev_fs7\n",
    "importlib.reload(NeuroMet2_dev_fs7)\n",
    "from pipeline.nodes import qdec\n",
    "importlib.reload(qdec)"
   ]
  },
  {
   "cell_type": "code",
   "execution_count": null,
   "metadata": {},
   "outputs": [],
   "source": [
    "neuromet_creator = NeuroMet2_dev_fs7.NeuroMet(subject_list,\n",
    "                                              temp_dir,\n",
    "                                              w_dir,\n",
    "                                              omp_nthreads,\n",
    "                                              raw_data_dir,\n",
    "                                              overwrite)\n",
    "neuromet_fs = neuromet_creator.make_neuromet_fs_workflow()"
   ]
  },
  {
   "cell_type": "code",
   "execution_count": null,
   "metadata": {},
   "outputs": [],
   "source": [
    "neuromet_fs.write_graph(graph2use = 'colored', dotfilename = './imgs/neuromet_fs')\n",
    "Image(filename='./imgs/neuromet_fs.png')"
   ]
  },
  {
   "cell_type": "code",
   "execution_count": null,
   "metadata": {},
   "outputs": [],
   "source": [
    "## Run Freesurfer Analysis"
   ]
  },
  {
   "cell_type": "code",
   "execution_count": null,
   "metadata": {
    "scrolled": false
   },
   "outputs": [],
   "source": [
    "%%time\n",
    "neuromet_fs.run('MultiProc', plugin_args={'n_procs': cores})"
   ]
  },
  {
   "cell_type": "code",
   "execution_count": null,
   "metadata": {},
   "outputs": [],
   "source": []
  }
 ],
 "metadata": {
  "kernelspec": {
   "display_name": "Python 3",
   "language": "python",
   "name": "python3"
  },
  "language_info": {
   "codemirror_mode": {
    "name": "ipython",
    "version": 3
   },
   "file_extension": ".py",
   "mimetype": "text/x-python",
   "name": "python",
   "nbconvert_exporter": "python",
   "pygments_lexer": "ipython3",
   "version": "3.6.5"
  }
 },
 "nbformat": 4,
 "nbformat_minor": 4
}
